{
 "cells": [
  {
   "cell_type": "markdown",
   "metadata": {},
   "source": [
    "# <a name=\"0\">K means - EM</a>"
   ]
  },
  {
   "cell_type": "markdown",
   "metadata": {},
   "source": [
    "1. <a href=\"#1\">Read the dataset</a>\n",
    "2. <a href=\"#2\">Data investigation</a>\n",
    "3. <a href=\"#3\">Data preprocessing </a>\n",
    "4. <a href=\"#4\">Features transformation </a>\n",
    "4. <a href=\"#5\">Training datasets</a>\n",
    "5. <a href=\"#6\">Improvement ideas</a>\n",
    "\n"
   ]
  },
  {
   "cell_type": "code",
   "execution_count": 4,
   "metadata": {},
   "outputs": [],
   "source": [
    "import pandas as pd\n",
    "import numpy as np\n",
    "import matplotlib.pyplot as plt\n",
    "import seaborn as sns\n",
    "import warnings\n",
    "warnings.filterwarnings(\"ignore\")"
   ]
  },
  {
   "cell_type": "markdown",
   "metadata": {},
   "source": [
    "## 1. <a name=\"1\">Read the dataset</a>\n",
    "(<a href=\"#0\">Go to top</a>)\n",
    "\n",
    "First dowmload the data set from this link https://www.kaggle.com/fernandol/countries-of-the-world\n",
    "then import it in python."
   ]
  },
  {
   "cell_type": "code",
   "execution_count": 5,
   "metadata": {},
   "outputs": [
    {
     "name": "stdout",
     "output_type": "stream",
     "text": [
      "The shape of the dataset is: (227, 20)\n"
     ]
    }
   ],
   "source": [
    "#read the data\n",
    "\n",
    "data_path = 'C:\\\\Users\\أحمد محمد\\\\Desktop\\\\New folder\\\\section\\\\countries_of_the_world.csv'  #the path where you downloaded the data\n",
    "df = pd.read_csv(data_path)\n",
    "\n",
    "print('The shape of the dataset is:', df.shape)"
   ]
  },
  {
   "cell_type": "markdown",
   "metadata": {},
   "source": [
    "## 2. <a name=\"2\">Data investigation</a>\n",
    "(<a href=\"#0\">Go to top</a>)\n",
    "\n",
    "in this part you need to check the data quality and assess any issues in the data as:\n",
    "- null values in each column \n",
    "- each column has the proper data type\n",
    "- outliers\n",
    "- duplicate rows\n",
    "- distribution for each column (skewness)\n",
    "<br>\n",
    "\n",
    "**comment each issue you find** "
   ]
  },
  {
   "cell_type": "code",
   "execution_count": 6,
   "metadata": {},
   "outputs": [
    {
     "name": "stdout",
     "output_type": "stream",
     "text": [
      "<class 'pandas.core.frame.DataFrame'>\n",
      "RangeIndex: 227 entries, 0 to 226\n",
      "Data columns (total 20 columns):\n",
      " #   Column                              Non-Null Count  Dtype  \n",
      "---  ------                              --------------  -----  \n",
      " 0   Country                             227 non-null    object \n",
      " 1   Region                              227 non-null    object \n",
      " 2   Population                          227 non-null    int64  \n",
      " 3   Area (sq. mi.)                      227 non-null    int64  \n",
      " 4   Pop. Density (per sq. mi.)          227 non-null    object \n",
      " 5   Coastline (coast/area ratio)        227 non-null    object \n",
      " 6   Net migration                       224 non-null    object \n",
      " 7   Infant mortality (per 1000 births)  224 non-null    object \n",
      " 8   GDP ($ per capita)                  226 non-null    float64\n",
      " 9   Literacy (%)                        209 non-null    object \n",
      " 10  Phones (per 1000)                   223 non-null    object \n",
      " 11  Arable (%)                          225 non-null    object \n",
      " 12  Crops (%)                           225 non-null    object \n",
      " 13  Other (%)                           225 non-null    object \n",
      " 14  Climate                             205 non-null    object \n",
      " 15  Birthrate                           224 non-null    object \n",
      " 16  Deathrate                           223 non-null    object \n",
      " 17  Agriculture                         212 non-null    object \n",
      " 18  Industry                            211 non-null    object \n",
      " 19  Service                             212 non-null    object \n",
      "dtypes: float64(1), int64(2), object(17)\n",
      "memory usage: 35.6+ KB\n"
     ]
    }
   ],
   "source": [
    "# Let's see the data types and non-null values for each column\n",
    "df.info()"
   ]
  },
  {
   "cell_type": "code",
   "execution_count": 7,
   "metadata": {},
   "outputs": [
    {
     "data": {
      "text/plain": [
       "Country                               0.00\n",
       "Region                                0.00\n",
       "Population                            0.00\n",
       "Area (sq. mi.)                        0.00\n",
       "Pop. Density (per sq. mi.)            0.00\n",
       "Coastline (coast/area ratio)          0.00\n",
       "Net migration                         1.32\n",
       "Infant mortality (per 1000 births)    1.32\n",
       "GDP ($ per capita)                    0.44\n",
       "Literacy (%)                          7.93\n",
       "Phones (per 1000)                     1.76\n",
       "Arable (%)                            0.88\n",
       "Crops (%)                             0.88\n",
       "Other (%)                             0.88\n",
       "Climate                               9.69\n",
       "Birthrate                             1.32\n",
       "Deathrate                             1.76\n",
       "Agriculture                           6.61\n",
       "Industry                              7.05\n",
       "Service                               6.61\n",
       "dtype: float64"
      ]
     },
     "execution_count": 7,
     "metadata": {},
     "output_type": "execute_result"
    }
   ],
   "source": [
    "# this will calculate the precentage of the null values in each column\n",
    "round(df.isnull().sum(axis=0)*100/df.shape[0],2)"
   ]
  },
  {
   "cell_type": "code",
   "execution_count": 8,
   "metadata": {},
   "outputs": [
    {
     "data": {
      "text/html": [
       "<div>\n",
       "<style scoped>\n",
       "    .dataframe tbody tr th:only-of-type {\n",
       "        vertical-align: middle;\n",
       "    }\n",
       "\n",
       "    .dataframe tbody tr th {\n",
       "        vertical-align: top;\n",
       "    }\n",
       "\n",
       "    .dataframe thead th {\n",
       "        text-align: right;\n",
       "    }\n",
       "</style>\n",
       "<table border=\"1\" class=\"dataframe\">\n",
       "  <thead>\n",
       "    <tr style=\"text-align: right;\">\n",
       "      <th></th>\n",
       "      <th>Population</th>\n",
       "      <th>Area (sq. mi.)</th>\n",
       "      <th>GDP ($ per capita)</th>\n",
       "    </tr>\n",
       "  </thead>\n",
       "  <tbody>\n",
       "    <tr>\n",
       "      <th>count</th>\n",
       "      <td>2.270000e+02</td>\n",
       "      <td>2.270000e+02</td>\n",
       "      <td>226.000000</td>\n",
       "    </tr>\n",
       "    <tr>\n",
       "      <th>mean</th>\n",
       "      <td>2.874028e+07</td>\n",
       "      <td>5.982270e+05</td>\n",
       "      <td>9689.823009</td>\n",
       "    </tr>\n",
       "    <tr>\n",
       "      <th>std</th>\n",
       "      <td>1.178913e+08</td>\n",
       "      <td>1.790282e+06</td>\n",
       "      <td>10049.138513</td>\n",
       "    </tr>\n",
       "    <tr>\n",
       "      <th>min</th>\n",
       "      <td>7.026000e+03</td>\n",
       "      <td>2.000000e+00</td>\n",
       "      <td>500.000000</td>\n",
       "    </tr>\n",
       "    <tr>\n",
       "      <th>25%</th>\n",
       "      <td>4.376240e+05</td>\n",
       "      <td>4.647500e+03</td>\n",
       "      <td>1900.000000</td>\n",
       "    </tr>\n",
       "    <tr>\n",
       "      <th>50%</th>\n",
       "      <td>4.786994e+06</td>\n",
       "      <td>8.660000e+04</td>\n",
       "      <td>5550.000000</td>\n",
       "    </tr>\n",
       "    <tr>\n",
       "      <th>75%</th>\n",
       "      <td>1.749777e+07</td>\n",
       "      <td>4.418110e+05</td>\n",
       "      <td>15700.000000</td>\n",
       "    </tr>\n",
       "    <tr>\n",
       "      <th>max</th>\n",
       "      <td>1.313974e+09</td>\n",
       "      <td>1.707520e+07</td>\n",
       "      <td>55100.000000</td>\n",
       "    </tr>\n",
       "  </tbody>\n",
       "</table>\n",
       "</div>"
      ],
      "text/plain": [
       "         Population  Area (sq. mi.)  GDP ($ per capita)\n",
       "count  2.270000e+02    2.270000e+02          226.000000\n",
       "mean   2.874028e+07    5.982270e+05         9689.823009\n",
       "std    1.178913e+08    1.790282e+06        10049.138513\n",
       "min    7.026000e+03    2.000000e+00          500.000000\n",
       "25%    4.376240e+05    4.647500e+03         1900.000000\n",
       "50%    4.786994e+06    8.660000e+04         5550.000000\n",
       "75%    1.749777e+07    4.418110e+05        15700.000000\n",
       "max    1.313974e+09    1.707520e+07        55100.000000"
      ]
     },
     "execution_count": 8,
     "metadata": {},
     "output_type": "execute_result"
    }
   ],
   "source": [
    "# This will print basic statistics for numerical columns\n",
    "df.describe()"
   ]
  },
  {
   "cell_type": "code",
   "execution_count": 9,
   "metadata": {},
   "outputs": [
    {
     "data": {
      "text/plain": [
       "Index(['Country', 'Region', 'Population', 'Area (sq. mi.)',\n",
       "       'Pop. Density (per sq. mi.)', 'Coastline (coast/area ratio)',\n",
       "       'Net migration', 'Infant mortality (per 1000 births)',\n",
       "       'GDP ($ per capita)', 'Literacy (%)', 'Phones (per 1000)', 'Arable (%)',\n",
       "       'Crops (%)', 'Other (%)', 'Climate', 'Birthrate', 'Deathrate',\n",
       "       'Agriculture', 'Industry', 'Service'],\n",
       "      dtype='object')"
      ]
     },
     "execution_count": 9,
     "metadata": {},
     "output_type": "execute_result"
    }
   ],
   "source": [
    "#know the number of columns\n",
    "df.columns"
   ]
  },
  {
   "cell_type": "code",
   "execution_count": 10,
   "metadata": {},
   "outputs": [
    {
     "data": {
      "text/plain": [
       "Country                                object\n",
       "Region                                 object\n",
       "Population                              int64\n",
       "Area (sq. mi.)                          int64\n",
       "Pop. Density (per sq. mi.)             object\n",
       "Coastline (coast/area ratio)           object\n",
       "Net migration                          object\n",
       "Infant mortality (per 1000 births)     object\n",
       "GDP ($ per capita)                    float64\n",
       "Literacy (%)                           object\n",
       "Phones (per 1000)                      object\n",
       "Arable (%)                             object\n",
       "Crops (%)                              object\n",
       "Other (%)                              object\n",
       "Climate                                object\n",
       "Birthrate                              object\n",
       "Deathrate                              object\n",
       "Agriculture                            object\n",
       "Industry                               object\n",
       "Service                                object\n",
       "dtype: object"
      ]
     },
     "execution_count": 10,
     "metadata": {},
     "output_type": "execute_result"
    }
   ],
   "source": [
    "#see the data type of each column \n",
    "df.dtypes"
   ]
  },
  {
   "cell_type": "code",
   "execution_count": 11,
   "metadata": {},
   "outputs": [
    {
     "data": {
      "text/html": [
       "<div>\n",
       "<style scoped>\n",
       "    .dataframe tbody tr th:only-of-type {\n",
       "        vertical-align: middle;\n",
       "    }\n",
       "\n",
       "    .dataframe tbody tr th {\n",
       "        vertical-align: top;\n",
       "    }\n",
       "\n",
       "    .dataframe thead th {\n",
       "        text-align: right;\n",
       "    }\n",
       "</style>\n",
       "<table border=\"1\" class=\"dataframe\">\n",
       "  <thead>\n",
       "    <tr style=\"text-align: right;\">\n",
       "      <th></th>\n",
       "      <th>Country</th>\n",
       "      <th>Region</th>\n",
       "      <th>Population</th>\n",
       "      <th>Area (sq. mi.)</th>\n",
       "      <th>Pop. Density (per sq. mi.)</th>\n",
       "      <th>Coastline (coast/area ratio)</th>\n",
       "      <th>Net migration</th>\n",
       "      <th>Infant mortality (per 1000 births)</th>\n",
       "      <th>GDP ($ per capita)</th>\n",
       "      <th>Literacy (%)</th>\n",
       "      <th>Phones (per 1000)</th>\n",
       "      <th>Arable (%)</th>\n",
       "      <th>Crops (%)</th>\n",
       "      <th>Other (%)</th>\n",
       "      <th>Climate</th>\n",
       "      <th>Birthrate</th>\n",
       "      <th>Deathrate</th>\n",
       "      <th>Agriculture</th>\n",
       "      <th>Industry</th>\n",
       "      <th>Service</th>\n",
       "    </tr>\n",
       "  </thead>\n",
       "  <tbody>\n",
       "    <tr>\n",
       "      <th>0</th>\n",
       "      <td>Afghanistan</td>\n",
       "      <td>ASIA (EX. NEAR EAST)</td>\n",
       "      <td>31056997</td>\n",
       "      <td>647500</td>\n",
       "      <td>48,0</td>\n",
       "      <td>0,00</td>\n",
       "      <td>23,06</td>\n",
       "      <td>163,07</td>\n",
       "      <td>700.0</td>\n",
       "      <td>36,0</td>\n",
       "      <td>3,2</td>\n",
       "      <td>12,13</td>\n",
       "      <td>0,22</td>\n",
       "      <td>87,65</td>\n",
       "      <td>1</td>\n",
       "      <td>46,6</td>\n",
       "      <td>20,34</td>\n",
       "      <td>0,38</td>\n",
       "      <td>0,24</td>\n",
       "      <td>0,38</td>\n",
       "    </tr>\n",
       "    <tr>\n",
       "      <th>1</th>\n",
       "      <td>Albania</td>\n",
       "      <td>EASTERN EUROPE</td>\n",
       "      <td>3581655</td>\n",
       "      <td>28748</td>\n",
       "      <td>124,6</td>\n",
       "      <td>1,26</td>\n",
       "      <td>-4,93</td>\n",
       "      <td>21,52</td>\n",
       "      <td>4500.0</td>\n",
       "      <td>86,5</td>\n",
       "      <td>71,2</td>\n",
       "      <td>21,09</td>\n",
       "      <td>4,42</td>\n",
       "      <td>74,49</td>\n",
       "      <td>3</td>\n",
       "      <td>15,11</td>\n",
       "      <td>5,22</td>\n",
       "      <td>0,232</td>\n",
       "      <td>0,188</td>\n",
       "      <td>0,579</td>\n",
       "    </tr>\n",
       "    <tr>\n",
       "      <th>2</th>\n",
       "      <td>Algeria</td>\n",
       "      <td>NORTHERN AFRICA</td>\n",
       "      <td>32930091</td>\n",
       "      <td>2381740</td>\n",
       "      <td>13,8</td>\n",
       "      <td>0,04</td>\n",
       "      <td>-0,39</td>\n",
       "      <td>31</td>\n",
       "      <td>6000.0</td>\n",
       "      <td>70,0</td>\n",
       "      <td>78,1</td>\n",
       "      <td>3,22</td>\n",
       "      <td>0,25</td>\n",
       "      <td>96,53</td>\n",
       "      <td>1</td>\n",
       "      <td>17,14</td>\n",
       "      <td>4,61</td>\n",
       "      <td>0,101</td>\n",
       "      <td>0,6</td>\n",
       "      <td>0,298</td>\n",
       "    </tr>\n",
       "    <tr>\n",
       "      <th>3</th>\n",
       "      <td>American Samoa</td>\n",
       "      <td>OCEANIA</td>\n",
       "      <td>57794</td>\n",
       "      <td>199</td>\n",
       "      <td>290,4</td>\n",
       "      <td>58,29</td>\n",
       "      <td>-20,71</td>\n",
       "      <td>9,27</td>\n",
       "      <td>8000.0</td>\n",
       "      <td>97,0</td>\n",
       "      <td>259,5</td>\n",
       "      <td>10</td>\n",
       "      <td>15</td>\n",
       "      <td>75</td>\n",
       "      <td>2</td>\n",
       "      <td>22,46</td>\n",
       "      <td>3,27</td>\n",
       "      <td>NaN</td>\n",
       "      <td>NaN</td>\n",
       "      <td>NaN</td>\n",
       "    </tr>\n",
       "    <tr>\n",
       "      <th>4</th>\n",
       "      <td>Andorra</td>\n",
       "      <td>WESTERN EUROPE</td>\n",
       "      <td>71201</td>\n",
       "      <td>468</td>\n",
       "      <td>152,1</td>\n",
       "      <td>0,00</td>\n",
       "      <td>6,6</td>\n",
       "      <td>4,05</td>\n",
       "      <td>19000.0</td>\n",
       "      <td>100,0</td>\n",
       "      <td>497,2</td>\n",
       "      <td>2,22</td>\n",
       "      <td>0</td>\n",
       "      <td>97,78</td>\n",
       "      <td>3</td>\n",
       "      <td>8,71</td>\n",
       "      <td>6,25</td>\n",
       "      <td>NaN</td>\n",
       "      <td>NaN</td>\n",
       "      <td>NaN</td>\n",
       "    </tr>\n",
       "  </tbody>\n",
       "</table>\n",
       "</div>"
      ],
      "text/plain": [
       "           Country                               Region  Population  \\\n",
       "0     Afghanistan         ASIA (EX. NEAR EAST)             31056997   \n",
       "1         Albania   EASTERN EUROPE                          3581655   \n",
       "2         Algeria   NORTHERN AFRICA                        32930091   \n",
       "3  American Samoa   OCEANIA                                   57794   \n",
       "4         Andorra   WESTERN EUROPE                            71201   \n",
       "\n",
       "   Area (sq. mi.) Pop. Density (per sq. mi.) Coastline (coast/area ratio)  \\\n",
       "0          647500                       48,0                         0,00   \n",
       "1           28748                      124,6                         1,26   \n",
       "2         2381740                       13,8                         0,04   \n",
       "3             199                      290,4                        58,29   \n",
       "4             468                      152,1                         0,00   \n",
       "\n",
       "  Net migration Infant mortality (per 1000 births)  GDP ($ per capita)  \\\n",
       "0         23,06                             163,07               700.0   \n",
       "1         -4,93                              21,52              4500.0   \n",
       "2         -0,39                                 31              6000.0   \n",
       "3        -20,71                               9,27              8000.0   \n",
       "4           6,6                               4,05             19000.0   \n",
       "\n",
       "  Literacy (%) Phones (per 1000) Arable (%) Crops (%) Other (%) Climate  \\\n",
       "0         36,0               3,2      12,13      0,22     87,65       1   \n",
       "1         86,5              71,2      21,09      4,42     74,49       3   \n",
       "2         70,0              78,1       3,22      0,25     96,53       1   \n",
       "3         97,0             259,5         10        15        75       2   \n",
       "4        100,0             497,2       2,22         0     97,78       3   \n",
       "\n",
       "  Birthrate Deathrate Agriculture Industry Service  \n",
       "0      46,6     20,34        0,38     0,24    0,38  \n",
       "1     15,11      5,22       0,232    0,188   0,579  \n",
       "2     17,14      4,61       0,101      0,6   0,298  \n",
       "3     22,46      3,27         NaN      NaN     NaN  \n",
       "4      8,71      6,25         NaN      NaN     NaN  "
      ]
     },
     "execution_count": 11,
     "metadata": {},
     "output_type": "execute_result"
    }
   ],
   "source": [
    "#show the first five rows of the data\n",
    "df.head()"
   ]
  },
  {
   "cell_type": "code",
   "execution_count": 12,
   "metadata": {},
   "outputs": [
    {
     "data": {
      "text/plain": [
       "array(['Afghanistan ', 'Albania ', 'Algeria ', 'American Samoa ',\n",
       "       'Andorra ', 'Angola ', 'Anguilla ', 'Antigua & Barbuda ',\n",
       "       'Argentina ', 'Armenia ', 'Aruba ', 'Australia ', 'Austria ',\n",
       "       'Azerbaijan ', 'Bahamas, The ', 'Bahrain ', 'Bangladesh ',\n",
       "       'Barbados ', 'Belarus ', 'Belgium ', 'Belize ', 'Benin ',\n",
       "       'Bermuda ', 'Bhutan ', 'Bolivia ', 'Bosnia & Herzegovina ',\n",
       "       'Botswana ', 'Brazil ', 'British Virgin Is. ', 'Brunei ',\n",
       "       'Bulgaria ', 'Burkina Faso ', 'Burma ', 'Burundi ', 'Cambodia ',\n",
       "       'Cameroon ', 'Canada ', 'Cape Verde ', 'Cayman Islands ',\n",
       "       'Central African Rep. ', 'Chad ', 'Chile ', 'China ', 'Colombia ',\n",
       "       'Comoros ', 'Congo, Dem. Rep. ', 'Congo, Repub. of the ',\n",
       "       'Cook Islands ', 'Costa Rica ', \"Cote d'Ivoire \", 'Croatia ',\n",
       "       'Cuba ', 'Cyprus ', 'Czech Republic ', 'Denmark ', 'Djibouti ',\n",
       "       'Dominica ', 'Dominican Republic ', 'East Timor ', 'Ecuador ',\n",
       "       'Egypt ', 'El Salvador ', 'Equatorial Guinea ', 'Eritrea ',\n",
       "       'Estonia ', 'Ethiopia ', 'Faroe Islands ', 'Fiji ', 'Finland ',\n",
       "       'France ', 'French Guiana ', 'French Polynesia ', 'Gabon ',\n",
       "       'Gambia, The ', 'Gaza Strip ', 'Georgia ', 'Germany ', 'Ghana ',\n",
       "       'Gibraltar ', 'Greece ', 'Greenland ', 'Grenada ', 'Guadeloupe ',\n",
       "       'Guam ', 'Guatemala ', 'Guernsey ', 'Guinea ', 'Guinea-Bissau ',\n",
       "       'Guyana ', 'Haiti ', 'Honduras ', 'Hong Kong ', 'Hungary ',\n",
       "       'Iceland ', 'India ', 'Indonesia ', 'Iran ', 'Iraq ', 'Ireland ',\n",
       "       'Isle of Man ', 'Israel ', 'Italy ', 'Jamaica ', 'Japan ',\n",
       "       'Jersey ', 'Jordan ', 'Kazakhstan ', 'Kenya ', 'Kiribati ',\n",
       "       'Korea, North ', 'Korea, South ', 'Kuwait ', 'Kyrgyzstan ',\n",
       "       'Laos ', 'Latvia ', 'Lebanon ', 'Lesotho ', 'Liberia ', 'Libya ',\n",
       "       'Liechtenstein ', 'Lithuania ', 'Luxembourg ', 'Macau ',\n",
       "       'Macedonia ', 'Madagascar ', 'Malawi ', 'Malaysia ', 'Maldives ',\n",
       "       'Mali ', 'Malta ', 'Marshall Islands ', 'Martinique ',\n",
       "       'Mauritania ', 'Mauritius ', 'Mayotte ', 'Mexico ',\n",
       "       'Micronesia, Fed. St. ', 'Moldova ', 'Monaco ', 'Mongolia ',\n",
       "       'Montserrat ', 'Morocco ', 'Mozambique ', 'Namibia ', 'Nauru ',\n",
       "       'Nepal ', 'Netherlands ', 'Netherlands Antilles ',\n",
       "       'New Caledonia ', 'New Zealand ', 'Nicaragua ', 'Niger ',\n",
       "       'Nigeria ', 'N. Mariana Islands ', 'Norway ', 'Oman ', 'Pakistan ',\n",
       "       'Palau ', 'Panama ', 'Papua New Guinea ', 'Paraguay ', 'Peru ',\n",
       "       'Philippines ', 'Poland ', 'Portugal ', 'Puerto Rico ', 'Qatar ',\n",
       "       'Reunion ', 'Romania ', 'Russia ', 'Rwanda ', 'Saint Helena ',\n",
       "       'Saint Kitts & Nevis ', 'Saint Lucia ', 'St Pierre & Miquelon ',\n",
       "       'Saint Vincent and the Grenadines ', 'Samoa ', 'San Marino ',\n",
       "       'Sao Tome & Principe ', 'Saudi Arabia ', 'Senegal ', 'Serbia ',\n",
       "       'Seychelles ', 'Sierra Leone ', 'Singapore ', 'Slovakia ',\n",
       "       'Slovenia ', 'Solomon Islands ', 'Somalia ', 'South Africa ',\n",
       "       'Spain ', 'Sri Lanka ', 'Sudan ', 'Suriname ', 'Swaziland ',\n",
       "       'Sweden ', 'Switzerland ', 'Syria ', 'Taiwan ', 'Tajikistan ',\n",
       "       'Tanzania ', 'Thailand ', 'Togo ', 'Tonga ', 'Trinidad & Tobago ',\n",
       "       'Tunisia ', 'Turkey ', 'Turkmenistan ', 'Turks & Caicos Is ',\n",
       "       'Tuvalu ', 'Uganda ', 'Ukraine ', 'United Arab Emirates ',\n",
       "       'United Kingdom ', 'United States ', 'Uruguay ', 'Uzbekistan ',\n",
       "       'Vanuatu ', 'Venezuela ', 'Vietnam ', 'Virgin Islands ',\n",
       "       'Wallis and Futuna ', 'West Bank ', 'Western Sahara ', 'Yemen ',\n",
       "       'Zambia ', 'Zimbabwe '], dtype=object)"
      ]
     },
     "execution_count": 12,
     "metadata": {},
     "output_type": "execute_result"
    }
   ],
   "source": [
    "#check the unique values of countries\n",
    "df.Country.unique()"
   ]
  },
  {
   "cell_type": "code",
   "execution_count": 13,
   "metadata": {},
   "outputs": [
    {
     "data": {
      "text/plain": [
       "array(['ASIA (EX. NEAR EAST)         ',\n",
       "       'EASTERN EUROPE                     ',\n",
       "       'NORTHERN AFRICA                    ',\n",
       "       'OCEANIA                            ',\n",
       "       'WESTERN EUROPE                     ',\n",
       "       'SUB-SAHARAN AFRICA                 ', 'LATIN AMER. & CARIB    ',\n",
       "       'C.W. OF IND. STATES ', 'NEAR EAST                          ',\n",
       "       'NORTHERN AMERICA                   ',\n",
       "       'BALTICS                            '], dtype=object)"
      ]
     },
     "execution_count": 13,
     "metadata": {},
     "output_type": "execute_result"
    }
   ],
   "source": [
    "df.Region.unique()"
   ]
  },
  {
   "cell_type": "code",
   "execution_count": 14,
   "metadata": {},
   "outputs": [
    {
     "data": {
      "text/plain": [
       "Sao Tome & Principe     1\n",
       "Rwanda                  1\n",
       "South Africa            1\n",
       "Korea, North            1\n",
       "United States           1\n",
       "                       ..\n",
       "Angola                  1\n",
       "Norway                  1\n",
       "Barbados                1\n",
       "Romania                 1\n",
       "Seychelles              1\n",
       "Name: Country, Length: 227, dtype: int64"
      ]
     },
     "execution_count": 14,
     "metadata": {},
     "output_type": "execute_result"
    }
   ],
   "source": [
    "df.Country.value_counts()"
   ]
  },
  {
   "cell_type": "code",
   "execution_count": 15,
   "metadata": {},
   "outputs": [
    {
     "data": {
      "text/plain": [
       "array(['1', '3', '2', nan, '4', '1,5', '2,5'], dtype=object)"
      ]
     },
     "execution_count": 15,
     "metadata": {},
     "output_type": "execute_result"
    }
   ],
   "source": [
    "df.Climate.unique()"
   ]
  },
  {
   "cell_type": "code",
   "execution_count": 16,
   "metadata": {},
   "outputs": [
    {
     "data": {
      "text/plain": [
       "SUB-SAHARAN AFRICA                     51\n",
       "LATIN AMER. & CARIB                    45\n",
       "WESTERN EUROPE                         28\n",
       "ASIA (EX. NEAR EAST)                   28\n",
       "OCEANIA                                21\n",
       "NEAR EAST                              16\n",
       "C.W. OF IND. STATES                    12\n",
       "EASTERN EUROPE                         12\n",
       "NORTHERN AFRICA                         6\n",
       "NORTHERN AMERICA                        5\n",
       "BALTICS                                 3\n",
       "Name: Region, dtype: int64"
      ]
     },
     "execution_count": 16,
     "metadata": {},
     "output_type": "execute_result"
    }
   ],
   "source": [
    "df.Region.value_counts()"
   ]
  },
  {
   "cell_type": "code",
   "execution_count": 17,
   "metadata": {},
   "outputs": [
    {
     "data": {
      "text/plain": [
       "0"
      ]
     },
     "execution_count": 17,
     "metadata": {},
     "output_type": "execute_result"
    }
   ],
   "source": [
    "#Check if there is any duplicated rows\n",
    "df.duplicated().sum()"
   ]
  },
  {
   "cell_type": "code",
   "execution_count": 18,
   "metadata": {},
   "outputs": [],
   "source": [
    "# measure of asymmetry of the distribution\n",
    "skewness = df.skew()"
   ]
  },
  {
   "cell_type": "code",
   "execution_count": 19,
   "metadata": {},
   "outputs": [
    {
     "data": {
      "text/plain": [
       "Population            9.200223\n",
       "Area (sq. mi.)        5.964245\n",
       "GDP ($ per capita)    1.375924\n",
       "dtype: float64"
      ]
     },
     "execution_count": 19,
     "metadata": {},
     "output_type": "execute_result"
    }
   ],
   "source": [
    "#check the skewness of the columns\n",
    "skewness"
   ]
  },
  {
   "cell_type": "markdown",
   "metadata": {},
   "source": [
    "- here all the values are positive which means the tail of the distribution is longer towards the right hand side of the curve"
   ]
  },
  {
   "cell_type": "code",
   "execution_count": 20,
   "metadata": {},
   "outputs": [
    {
     "data": {
      "text/plain": [
       "<matplotlib.axes._subplots.AxesSubplot at 0x223e2e93730>"
      ]
     },
     "execution_count": 20,
     "metadata": {},
     "output_type": "execute_result"
    },
    {
     "data": {
      "image/png": "[encoded data removed]",
      "text/plain": [
       "<Figure size 432x288 with 1 Axes>"
      ]
     },
     "metadata": {
      "needs_background": "light"
     },
     "output_type": "display_data"
    }
   ],
   "source": [
    "sns.boxplot(x=df['Area (sq. mi.)'])"
   ]
  },
  {
   "cell_type": "code",
   "execution_count": 21,
   "metadata": {},
   "outputs": [
    {
     "data": {
      "text/plain": [
       "<matplotlib.axes._subplots.AxesSubplot at 0x223e2f3e610>"
      ]
     },
     "execution_count": 21,
     "metadata": {},
     "output_type": "execute_result"
    },
    {
     "data": {
      "image/png": "[encoded data removed]",
      "text/plain": [
       "<Figure size 432x288 with 1 Axes>"
      ]
     },
     "metadata": {
      "needs_background": "light"
     },
     "output_type": "display_data"
    }
   ],
   "source": [
    "sns.boxplot(x=df['Population'])"
   ]
  },
  {
   "cell_type": "code",
   "execution_count": 22,
   "metadata": {},
   "outputs": [
    {
     "data": {
      "image/png": "[encoded data removed]",
      "text/plain": [
       "<Figure size 1152x576 with 1 Axes>"
      ]
     },
     "metadata": {
      "needs_background": "light"
     },
     "output_type": "display_data"
    }
   ],
   "source": [
    "fig, ax = plt.subplots(figsize=(16,8))\n",
    "ax.scatter(df['Population'].astype(str), df['Industry'].astype(str))\n",
    "ax.set_xlabel('population in the country')\n",
    "ax.set_ylabel('the rate of industry in that country')\n",
    "plt.show()"
   ]
  },
  {
   "cell_type": "markdown",
   "metadata": {},
   "source": [
    "## 3. <a name=\"3\">Data preprocessing</a>\n",
    "(<a href=\"#0\">Go to top</a>)\n"
   ]
  },
  {
   "cell_type": "markdown",
   "metadata": {},
   "source": [
    "### Define below all the issues that you had found in the previous part\n",
    "<br>\n",
    "1- There are Two columns are not in the proper data type\n",
    "\n",
    "- Country\n",
    "- Region\n",
    "\n",
    "\n",
    "<br>\n",
    "<br>\n",
    "\n",
    "2- There are missing values in \n",
    "- Net migration                         \n",
    "- Infant mortality (per 1000 births)    \n",
    "- GDP($ per capita)                    \n",
    "- Literacy(%)                          \n",
    "- Phones(per 1000)                     \n",
    "- Arable (%)                            \n",
    "- Crops (%)                             \n",
    "- Other (%)                             \n",
    "- Climate                               \n",
    "- Birthrate                             \n",
    "- Deathrate                             \n",
    "- Agriculture                           \n",
    "- Industry                              \n",
    "- Service                               \n",
    "\n",
    "<br>\n",
    "\n",
    "<br>\n",
    "3- There are object data type columns need to be converted to its proper data type \n",
    "\n",
    "<br>"
   ]
  },
  {
   "cell_type": "code",
   "execution_count": 23,
   "metadata": {},
   "outputs": [],
   "source": [
    "#make a copy for the original dataset\n",
    "df_copy=df.copy()"
   ]
  },
  {
   "cell_type": "markdown",
   "metadata": {},
   "source": [
    "### for each issue adapt this methodology \n",
    "- start by defining the solution\n",
    "- apply this solution onn the data\n",
    "- test the solution to make sure that you have solved the issue"
   ]
  },
  {
   "cell_type": "markdown",
   "metadata": {},
   "source": [
    "**First issue**\n",
    "- Get rid of categorical values"
   ]
  },
  {
   "cell_type": "code",
   "execution_count": 24,
   "metadata": {},
   "outputs": [],
   "source": [
    "#solution \n",
    "df.drop(columns = ['Country','Region'] , inplace = True)"
   ]
  },
  {
   "cell_type": "code",
   "execution_count": 25,
   "metadata": {},
   "outputs": [
    {
     "data": {
      "text/html": [
       "<div>\n",
       "<style scoped>\n",
       "    .dataframe tbody tr th:only-of-type {\n",
       "        vertical-align: middle;\n",
       "    }\n",
       "\n",
       "    .dataframe tbody tr th {\n",
       "        vertical-align: top;\n",
       "    }\n",
       "\n",
       "    .dataframe thead th {\n",
       "        text-align: right;\n",
       "    }\n",
       "</style>\n",
       "<table border=\"1\" class=\"dataframe\">\n",
       "  <thead>\n",
       "    <tr style=\"text-align: right;\">\n",
       "      <th></th>\n",
       "      <th>Population</th>\n",
       "      <th>Area (sq. mi.)</th>\n",
       "      <th>Pop. Density (per sq. mi.)</th>\n",
       "      <th>Coastline (coast/area ratio)</th>\n",
       "      <th>Net migration</th>\n",
       "      <th>Infant mortality (per 1000 births)</th>\n",
       "      <th>GDP ($ per capita)</th>\n",
       "      <th>Literacy (%)</th>\n",
       "      <th>Phones (per 1000)</th>\n",
       "      <th>Arable (%)</th>\n",
       "      <th>Crops (%)</th>\n",
       "      <th>Other (%)</th>\n",
       "      <th>Climate</th>\n",
       "      <th>Birthrate</th>\n",
       "      <th>Deathrate</th>\n",
       "      <th>Agriculture</th>\n",
       "      <th>Industry</th>\n",
       "      <th>Service</th>\n",
       "    </tr>\n",
       "  </thead>\n",
       "  <tbody>\n",
       "    <tr>\n",
       "      <th>0</th>\n",
       "      <td>31056997</td>\n",
       "      <td>647500</td>\n",
       "      <td>48,0</td>\n",
       "      <td>0,00</td>\n",
       "      <td>23,06</td>\n",
       "      <td>163,07</td>\n",
       "      <td>700.0</td>\n",
       "      <td>36,0</td>\n",
       "      <td>3,2</td>\n",
       "      <td>12,13</td>\n",
       "      <td>0,22</td>\n",
       "      <td>87,65</td>\n",
       "      <td>1</td>\n",
       "      <td>46,6</td>\n",
       "      <td>20,34</td>\n",
       "      <td>0,38</td>\n",
       "      <td>0,24</td>\n",
       "      <td>0,38</td>\n",
       "    </tr>\n",
       "    <tr>\n",
       "      <th>1</th>\n",
       "      <td>3581655</td>\n",
       "      <td>28748</td>\n",
       "      <td>124,6</td>\n",
       "      <td>1,26</td>\n",
       "      <td>-4,93</td>\n",
       "      <td>21,52</td>\n",
       "      <td>4500.0</td>\n",
       "      <td>86,5</td>\n",
       "      <td>71,2</td>\n",
       "      <td>21,09</td>\n",
       "      <td>4,42</td>\n",
       "      <td>74,49</td>\n",
       "      <td>3</td>\n",
       "      <td>15,11</td>\n",
       "      <td>5,22</td>\n",
       "      <td>0,232</td>\n",
       "      <td>0,188</td>\n",
       "      <td>0,579</td>\n",
       "    </tr>\n",
       "    <tr>\n",
       "      <th>2</th>\n",
       "      <td>32930091</td>\n",
       "      <td>2381740</td>\n",
       "      <td>13,8</td>\n",
       "      <td>0,04</td>\n",
       "      <td>-0,39</td>\n",
       "      <td>31</td>\n",
       "      <td>6000.0</td>\n",
       "      <td>70,0</td>\n",
       "      <td>78,1</td>\n",
       "      <td>3,22</td>\n",
       "      <td>0,25</td>\n",
       "      <td>96,53</td>\n",
       "      <td>1</td>\n",
       "      <td>17,14</td>\n",
       "      <td>4,61</td>\n",
       "      <td>0,101</td>\n",
       "      <td>0,6</td>\n",
       "      <td>0,298</td>\n",
       "    </tr>\n",
       "    <tr>\n",
       "      <th>3</th>\n",
       "      <td>57794</td>\n",
       "      <td>199</td>\n",
       "      <td>290,4</td>\n",
       "      <td>58,29</td>\n",
       "      <td>-20,71</td>\n",
       "      <td>9,27</td>\n",
       "      <td>8000.0</td>\n",
       "      <td>97,0</td>\n",
       "      <td>259,5</td>\n",
       "      <td>10</td>\n",
       "      <td>15</td>\n",
       "      <td>75</td>\n",
       "      <td>2</td>\n",
       "      <td>22,46</td>\n",
       "      <td>3,27</td>\n",
       "      <td>NaN</td>\n",
       "      <td>NaN</td>\n",
       "      <td>NaN</td>\n",
       "    </tr>\n",
       "    <tr>\n",
       "      <th>4</th>\n",
       "      <td>71201</td>\n",
       "      <td>468</td>\n",
       "      <td>152,1</td>\n",
       "      <td>0,00</td>\n",
       "      <td>6,6</td>\n",
       "      <td>4,05</td>\n",
       "      <td>19000.0</td>\n",
       "      <td>100,0</td>\n",
       "      <td>497,2</td>\n",
       "      <td>2,22</td>\n",
       "      <td>0</td>\n",
       "      <td>97,78</td>\n",
       "      <td>3</td>\n",
       "      <td>8,71</td>\n",
       "      <td>6,25</td>\n",
       "      <td>NaN</td>\n",
       "      <td>NaN</td>\n",
       "      <td>NaN</td>\n",
       "    </tr>\n",
       "  </tbody>\n",
       "</table>\n",
       "</div>"
      ],
      "text/plain": [
       "   Population  Area (sq. mi.) Pop. Density (per sq. mi.)  \\\n",
       "0    31056997          647500                       48,0   \n",
       "1     3581655           28748                      124,6   \n",
       "2    32930091         2381740                       13,8   \n",
       "3       57794             199                      290,4   \n",
       "4       71201             468                      152,1   \n",
       "\n",
       "  Coastline (coast/area ratio) Net migration  \\\n",
       "0                         0,00         23,06   \n",
       "1                         1,26         -4,93   \n",
       "2                         0,04         -0,39   \n",
       "3                        58,29        -20,71   \n",
       "4                         0,00           6,6   \n",
       "\n",
       "  Infant mortality (per 1000 births)  GDP ($ per capita) Literacy (%)  \\\n",
       "0                             163,07               700.0         36,0   \n",
       "1                              21,52              4500.0         86,5   \n",
       "2                                 31              6000.0         70,0   \n",
       "3                               9,27              8000.0         97,0   \n",
       "4                               4,05             19000.0        100,0   \n",
       "\n",
       "  Phones (per 1000) Arable (%) Crops (%) Other (%) Climate Birthrate  \\\n",
       "0               3,2      12,13      0,22     87,65       1      46,6   \n",
       "1              71,2      21,09      4,42     74,49       3     15,11   \n",
       "2              78,1       3,22      0,25     96,53       1     17,14   \n",
       "3             259,5         10        15        75       2     22,46   \n",
       "4             497,2       2,22         0     97,78       3      8,71   \n",
       "\n",
       "  Deathrate Agriculture Industry Service  \n",
       "0     20,34        0,38     0,24    0,38  \n",
       "1      5,22       0,232    0,188   0,579  \n",
       "2      4,61       0,101      0,6   0,298  \n",
       "3      3,27         NaN      NaN     NaN  \n",
       "4      6,25         NaN      NaN     NaN  "
      ]
     },
     "execution_count": 25,
     "metadata": {},
     "output_type": "execute_result"
    }
   ],
   "source": [
    "#test \n",
    "df.head()"
   ]
  },
  {
   "cell_type": "markdown",
   "metadata": {},
   "source": [
    "**Second issue**\n",
    "- treating with the missing values"
   ]
  },
  {
   "cell_type": "code",
   "execution_count": 26,
   "metadata": {},
   "outputs": [],
   "source": [
    "#solution \n",
    "df = df.dropna()"
   ]
  },
  {
   "cell_type": "code",
   "execution_count": 27,
   "metadata": {},
   "outputs": [
    {
     "name": "stdout",
     "output_type": "stream",
     "text": [
      "<class 'pandas.core.frame.DataFrame'>\n",
      "Int64Index: 179 entries, 0 to 226\n",
      "Data columns (total 18 columns):\n",
      " #   Column                              Non-Null Count  Dtype  \n",
      "---  ------                              --------------  -----  \n",
      " 0   Population                          179 non-null    int64  \n",
      " 1   Area (sq. mi.)                      179 non-null    int64  \n",
      " 2   Pop. Density (per sq. mi.)          179 non-null    object \n",
      " 3   Coastline (coast/area ratio)        179 non-null    object \n",
      " 4   Net migration                       179 non-null    object \n",
      " 5   Infant mortality (per 1000 births)  179 non-null    object \n",
      " 6   GDP ($ per capita)                  179 non-null    float64\n",
      " 7   Literacy (%)                        179 non-null    object \n",
      " 8   Phones (per 1000)                   179 non-null    object \n",
      " 9   Arable (%)                          179 non-null    object \n",
      " 10  Crops (%)                           179 non-null    object \n",
      " 11  Other (%)                           179 non-null    object \n",
      " 12  Climate                             179 non-null    object \n",
      " 13  Birthrate                           179 non-null    object \n",
      " 14  Deathrate                           179 non-null    object \n",
      " 15  Agriculture                         179 non-null    object \n",
      " 16  Industry                            179 non-null    object \n",
      " 17  Service                             179 non-null    object \n",
      "dtypes: float64(1), int64(2), object(15)\n",
      "memory usage: 26.6+ KB\n"
     ]
    }
   ],
   "source": [
    "#test \n",
    "df.info()"
   ]
  },
  {
   "cell_type": "markdown",
   "metadata": {},
   "source": [
    "**Third issue**\n",
    "- converting object type columns to its proper format "
   ]
  },
  {
   "cell_type": "code",
   "execution_count": 28,
   "metadata": {},
   "outputs": [],
   "source": [
    "#that function converts the data type to its proper format\n",
    "def convert_currency(val):\n",
    "    \"\"\"\n",
    "    Convert the string number value to a float\n",
    "     - Remove commas\n",
    "     - Convert to float type\n",
    "    \"\"\"\n",
    "    new_val = val.replace(',','')\n",
    "    return float(new_val)"
   ]
  },
  {
   "cell_type": "code",
   "execution_count": 29,
   "metadata": {},
   "outputs": [],
   "source": [
    "df['Pop. Density (per sq. mi.)'] = df['Pop. Density (per sq. mi.)'].apply(convert_currency)\n",
    "df['Coastline (coast/area ratio)'] = df['Coastline (coast/area ratio)'].apply(convert_currency)\n",
    "df['Net migration'] = df['Net migration'].apply(convert_currency)\n",
    "df['Infant mortality (per 1000 births)'] = df['Infant mortality (per 1000 births)'].apply(convert_currency)\n",
    "df['Literacy (%)'] = df['Literacy (%)'].apply(convert_currency)\n",
    "df['Phones (per 1000)'] = df['Phones (per 1000)'].apply(convert_currency)\n",
    "df['Arable (%)'] = df['Arable (%)'].apply(convert_currency)\n",
    "df['Crops (%)'] = df['Crops (%)'].apply(convert_currency)\n",
    "df['Other (%)'] = df['Other (%)'].apply(convert_currency)\n",
    "df['Birthrate'] = df['Birthrate'].apply(convert_currency)\n",
    "df['Deathrate'] = df['Deathrate'].apply(convert_currency)\n",
    "df['Agriculture'] = df['Agriculture'].apply(convert_currency)\n",
    "df['Industry'] = df['Industry'].apply(convert_currency)\n",
    "df['Service'] = df['Service'].apply(convert_currency)"
   ]
  },
  {
   "cell_type": "code",
   "execution_count": 30,
   "metadata": {},
   "outputs": [],
   "source": [
    "df['Climate'] = df.Climate.str.extract(\"([-+]?\\d*\\.\\d+|\\d+)\").astype(int)"
   ]
  },
  {
   "cell_type": "code",
   "execution_count": 31,
   "metadata": {},
   "outputs": [
    {
     "data": {
      "text/plain": [
       "Population                              int64\n",
       "Area (sq. mi.)                          int64\n",
       "Pop. Density (per sq. mi.)            float64\n",
       "Coastline (coast/area ratio)          float64\n",
       "Net migration                         float64\n",
       "Infant mortality (per 1000 births)    float64\n",
       "GDP ($ per capita)                    float64\n",
       "Literacy (%)                          float64\n",
       "Phones (per 1000)                     float64\n",
       "Arable (%)                            float64\n",
       "Crops (%)                             float64\n",
       "Other (%)                             float64\n",
       "Climate                                 int32\n",
       "Birthrate                             float64\n",
       "Deathrate                             float64\n",
       "Agriculture                           float64\n",
       "Industry                              float64\n",
       "Service                               float64\n",
       "dtype: object"
      ]
     },
     "execution_count": 31,
     "metadata": {},
     "output_type": "execute_result"
    }
   ],
   "source": [
    "#test\n",
    "df.dtypes"
   ]
  },
  {
   "cell_type": "code",
   "execution_count": 32,
   "metadata": {},
   "outputs": [
    {
     "data": {
      "text/html": [
       "<div>\n",
       "<style scoped>\n",
       "    .dataframe tbody tr th:only-of-type {\n",
       "        vertical-align: middle;\n",
       "    }\n",
       "\n",
       "    .dataframe tbody tr th {\n",
       "        vertical-align: top;\n",
       "    }\n",
       "\n",
       "    .dataframe thead th {\n",
       "        text-align: right;\n",
       "    }\n",
       "</style>\n",
       "<table border=\"1\" class=\"dataframe\">\n",
       "  <thead>\n",
       "    <tr style=\"text-align: right;\">\n",
       "      <th></th>\n",
       "      <th>Population</th>\n",
       "      <th>Area (sq. mi.)</th>\n",
       "      <th>Pop. Density (per sq. mi.)</th>\n",
       "      <th>Coastline (coast/area ratio)</th>\n",
       "      <th>Net migration</th>\n",
       "      <th>Infant mortality (per 1000 births)</th>\n",
       "      <th>GDP ($ per capita)</th>\n",
       "      <th>Literacy (%)</th>\n",
       "      <th>Phones (per 1000)</th>\n",
       "      <th>Arable (%)</th>\n",
       "      <th>Crops (%)</th>\n",
       "      <th>Other (%)</th>\n",
       "      <th>Climate</th>\n",
       "      <th>Birthrate</th>\n",
       "      <th>Deathrate</th>\n",
       "      <th>Agriculture</th>\n",
       "      <th>Industry</th>\n",
       "      <th>Service</th>\n",
       "    </tr>\n",
       "  </thead>\n",
       "  <tbody>\n",
       "    <tr>\n",
       "      <th>0</th>\n",
       "      <td>31056997</td>\n",
       "      <td>647500</td>\n",
       "      <td>480.0</td>\n",
       "      <td>0.0</td>\n",
       "      <td>2306.0</td>\n",
       "      <td>16307.0</td>\n",
       "      <td>700.0</td>\n",
       "      <td>360.0</td>\n",
       "      <td>32.0</td>\n",
       "      <td>1213.0</td>\n",
       "      <td>22.0</td>\n",
       "      <td>8765.0</td>\n",
       "      <td>1</td>\n",
       "      <td>466.0</td>\n",
       "      <td>2034.0</td>\n",
       "      <td>38.0</td>\n",
       "      <td>24.0</td>\n",
       "      <td>38.0</td>\n",
       "    </tr>\n",
       "    <tr>\n",
       "      <th>1</th>\n",
       "      <td>3581655</td>\n",
       "      <td>28748</td>\n",
       "      <td>1246.0</td>\n",
       "      <td>126.0</td>\n",
       "      <td>-493.0</td>\n",
       "      <td>2152.0</td>\n",
       "      <td>4500.0</td>\n",
       "      <td>865.0</td>\n",
       "      <td>712.0</td>\n",
       "      <td>2109.0</td>\n",
       "      <td>442.0</td>\n",
       "      <td>7449.0</td>\n",
       "      <td>3</td>\n",
       "      <td>1511.0</td>\n",
       "      <td>522.0</td>\n",
       "      <td>232.0</td>\n",
       "      <td>188.0</td>\n",
       "      <td>579.0</td>\n",
       "    </tr>\n",
       "    <tr>\n",
       "      <th>2</th>\n",
       "      <td>32930091</td>\n",
       "      <td>2381740</td>\n",
       "      <td>138.0</td>\n",
       "      <td>4.0</td>\n",
       "      <td>-39.0</td>\n",
       "      <td>31.0</td>\n",
       "      <td>6000.0</td>\n",
       "      <td>700.0</td>\n",
       "      <td>781.0</td>\n",
       "      <td>322.0</td>\n",
       "      <td>25.0</td>\n",
       "      <td>9653.0</td>\n",
       "      <td>1</td>\n",
       "      <td>1714.0</td>\n",
       "      <td>461.0</td>\n",
       "      <td>101.0</td>\n",
       "      <td>6.0</td>\n",
       "      <td>298.0</td>\n",
       "    </tr>\n",
       "    <tr>\n",
       "      <th>6</th>\n",
       "      <td>13477</td>\n",
       "      <td>102</td>\n",
       "      <td>1321.0</td>\n",
       "      <td>5980.0</td>\n",
       "      <td>1076.0</td>\n",
       "      <td>2103.0</td>\n",
       "      <td>8600.0</td>\n",
       "      <td>950.0</td>\n",
       "      <td>4600.0</td>\n",
       "      <td>0.0</td>\n",
       "      <td>0.0</td>\n",
       "      <td>100.0</td>\n",
       "      <td>2</td>\n",
       "      <td>1417.0</td>\n",
       "      <td>534.0</td>\n",
       "      <td>4.0</td>\n",
       "      <td>18.0</td>\n",
       "      <td>78.0</td>\n",
       "    </tr>\n",
       "    <tr>\n",
       "      <th>7</th>\n",
       "      <td>69108</td>\n",
       "      <td>443</td>\n",
       "      <td>1560.0</td>\n",
       "      <td>3454.0</td>\n",
       "      <td>-615.0</td>\n",
       "      <td>1946.0</td>\n",
       "      <td>11000.0</td>\n",
       "      <td>890.0</td>\n",
       "      <td>5499.0</td>\n",
       "      <td>1818.0</td>\n",
       "      <td>455.0</td>\n",
       "      <td>7727.0</td>\n",
       "      <td>2</td>\n",
       "      <td>1693.0</td>\n",
       "      <td>537.0</td>\n",
       "      <td>38.0</td>\n",
       "      <td>22.0</td>\n",
       "      <td>743.0</td>\n",
       "    </tr>\n",
       "  </tbody>\n",
       "</table>\n",
       "</div>"
      ],
      "text/plain": [
       "   Population  Area (sq. mi.)  Pop. Density (per sq. mi.)  \\\n",
       "0    31056997          647500                       480.0   \n",
       "1     3581655           28748                      1246.0   \n",
       "2    32930091         2381740                       138.0   \n",
       "6       13477             102                      1321.0   \n",
       "7       69108             443                      1560.0   \n",
       "\n",
       "   Coastline (coast/area ratio)  Net migration  \\\n",
       "0                           0.0         2306.0   \n",
       "1                         126.0         -493.0   \n",
       "2                           4.0          -39.0   \n",
       "6                        5980.0         1076.0   \n",
       "7                        3454.0         -615.0   \n",
       "\n",
       "   Infant mortality (per 1000 births)  GDP ($ per capita)  Literacy (%)  \\\n",
       "0                             16307.0               700.0         360.0   \n",
       "1                              2152.0              4500.0         865.0   \n",
       "2                                31.0              6000.0         700.0   \n",
       "6                              2103.0              8600.0         950.0   \n",
       "7                              1946.0             11000.0         890.0   \n",
       "\n",
       "   Phones (per 1000)  Arable (%)  Crops (%)  Other (%)  Climate  Birthrate  \\\n",
       "0               32.0      1213.0       22.0     8765.0        1      466.0   \n",
       "1              712.0      2109.0      442.0     7449.0        3     1511.0   \n",
       "2              781.0       322.0       25.0     9653.0        1     1714.0   \n",
       "6             4600.0         0.0        0.0      100.0        2     1417.0   \n",
       "7             5499.0      1818.0      455.0     7727.0        2     1693.0   \n",
       "\n",
       "   Deathrate  Agriculture  Industry  Service  \n",
       "0     2034.0         38.0      24.0     38.0  \n",
       "1      522.0        232.0     188.0    579.0  \n",
       "2      461.0        101.0       6.0    298.0  \n",
       "6      534.0          4.0      18.0     78.0  \n",
       "7      537.0         38.0      22.0    743.0  "
      ]
     },
     "execution_count": 32,
     "metadata": {},
     "output_type": "execute_result"
    }
   ],
   "source": [
    "df.head()"
   ]
  },
  {
   "cell_type": "code",
   "execution_count": 33,
   "metadata": {},
   "outputs": [
    {
     "data": {
      "text/plain": [
       "<matplotlib.axes._subplots.AxesSubplot at 0x223e3c48a60>"
      ]
     },
     "execution_count": 33,
     "metadata": {},
     "output_type": "execute_result"
    },
    {
     "data": {
      "image/png": "[encoded data removed]",
      "text/plain": [
       "<Figure size 432x288 with 1 Axes>"
      ]
     },
     "metadata": {
      "needs_background": "light"
     },
     "output_type": "display_data"
    }
   ],
   "source": [
    "#outliers\n",
    "sns.boxplot(x=df)"
   ]
  },
  {
   "cell_type": "markdown",
   "metadata": {},
   "source": [
    "## 4. <a name=\"4\">Features transformation</a>\n",
    "(<a href=\"#0\">Go to top</a>)"
   ]
  },
  {
   "cell_type": "markdown",
   "metadata": {},
   "source": [
    "*What is the feature scaling technique that would use and why?* <br>\n",
    "*return to this section again and try another technique and see how that will impact your result*<br>\n",
    "for more details on different methods for scaling check these links\n",
    "- https://scikit-learn.org/stable/modules/preprocessing.html#preprocessing\n",
    "- https://scikit-learn.org/stable/modules/classes.html#module-sklearn.preprocessing\n",
    "- https://www.analyticsvidhya.com/blog/2020/07/types-of-feature-transformation-and-scaling/"
   ]
  },
  {
   "cell_type": "code",
   "execution_count": 34,
   "metadata": {},
   "outputs": [],
   "source": [
    "from sklearn import preprocessing"
   ]
  },
  {
   "cell_type": "code",
   "execution_count": 35,
   "metadata": {},
   "outputs": [],
   "source": [
    "scaler = preprocessing.StandardScaler().fit(df)"
   ]
  },
  {
   "cell_type": "code",
   "execution_count": 36,
   "metadata": {},
   "outputs": [
    {
     "data": {
      "text/plain": [
       "StandardScaler()"
      ]
     },
     "execution_count": 36,
     "metadata": {},
     "output_type": "execute_result"
    }
   ],
   "source": [
    "scaler"
   ]
  },
  {
   "cell_type": "code",
   "execution_count": 37,
   "metadata": {},
   "outputs": [
    {
     "data": {
      "text/plain": [
       "array([ 3.42141495e+07,  5.64183000e+05,  2.94805028e+03,  1.64951955e+03,\n",
       "       -5.97206704e+00,  3.46108380e+03,  9.12569832e+03,  8.19441341e+02,\n",
       "        2.08151955e+03,  1.20496089e+03,  4.15424581e+02,  7.16164804e+03,\n",
       "        2.07821229e+00,  2.11986034e+03,  8.57972067e+02,  1.13865922e+02,\n",
       "        2.22513966e+02,  4.17346369e+02])"
      ]
     },
     "execution_count": 37,
     "metadata": {},
     "output_type": "execute_result"
    }
   ],
   "source": [
    "scaler.mean_"
   ]
  },
  {
   "cell_type": "code",
   "execution_count": 38,
   "metadata": {},
   "outputs": [
    {
     "data": {
      "text/plain": [
       "array([1.31395318e+08, 1.39175310e+06, 1.37549422e+04, 7.37706698e+03,\n",
       "       4.61799872e+02, 3.50320721e+03, 9.61714652e+03, 1.97820472e+02,\n",
       "       2.09534121e+03, 1.29616471e+03, 7.97146005e+02, 2.96239751e+03,\n",
       "       7.20432164e-01, 1.25079912e+03, 5.19442723e+02, 1.30650174e+02,\n",
       "       1.72704687e+02, 2.63393969e+02])"
      ]
     },
     "execution_count": 38,
     "metadata": {},
     "output_type": "execute_result"
    }
   ],
   "source": [
    "scaler.scale_"
   ]
  },
  {
   "cell_type": "code",
   "execution_count": 39,
   "metadata": {},
   "outputs": [],
   "source": [
    "df_scaled = scaler.transform(df)"
   ]
  },
  {
   "cell_type": "code",
   "execution_count": 40,
   "metadata": {},
   "outputs": [
    {
     "data": {
      "text/plain": [
       "array([[-0.02402789,  0.05986479, -0.17943007, ..., -0.58067984,\n",
       "        -1.14944168, -1.4402242 ],\n",
       "       [-0.23313231, -0.38471982, -0.123741  , ...,  0.90420146,\n",
       "        -0.19984383,  0.61373323],\n",
       "       [-0.00977248,  1.30594788, -0.20429386, ..., -0.09847612,\n",
       "        -1.25366584, -0.45310972],\n",
       "       ...,\n",
       "       [-0.09709601, -0.0260197 , -0.18480996, ...,  0.16176081,\n",
       "         1.44458172, -0.09243328],\n",
       "       [-0.17285349,  0.13539111, -0.20320335, ..., -0.70314427,\n",
       "        -1.12049053,  0.27203976],\n",
       "       [-0.16726125, -0.12473692, -0.19157116, ...,  0.49853801,\n",
       "         0.11861886,  0.61373323]])"
      ]
     },
     "execution_count": 40,
     "metadata": {},
     "output_type": "execute_result"
    }
   ],
   "source": [
    "df_scaled"
   ]
  },
  {
   "cell_type": "code",
   "execution_count": 41,
   "metadata": {},
   "outputs": [
    {
     "data": {
      "text/plain": [
       "array([ 9.92378123e-18, -4.96189061e-18, -3.47332343e-17,  9.92378123e-18,\n",
       "       -2.97713437e-17,  1.86070898e-18, -9.42759216e-17,  8.43521404e-17,\n",
       "        8.93140310e-17,  6.57450506e-17, -2.97713437e-17,  1.09161593e-16,\n",
       "        2.77865874e-16,  0.00000000e+00, -4.96189061e-18, -2.23285078e-17,\n",
       "        3.22522890e-17, -1.38932937e-16])"
      ]
     },
     "execution_count": 41,
     "metadata": {},
     "output_type": "execute_result"
    }
   ],
   "source": [
    "df_scaled.mean(axis=0)"
   ]
  },
  {
   "cell_type": "markdown",
   "metadata": {},
   "source": [
    "###### here is an issue that the mean didn't give me zero and i didn't manage to solve the problem"
   ]
  },
  {
   "cell_type": "code",
   "execution_count": 42,
   "metadata": {},
   "outputs": [
    {
     "data": {
      "text/plain": [
       "array([1., 1., 1., 1., 1., 1., 1., 1., 1., 1., 1., 1., 1., 1., 1., 1., 1.,\n",
       "       1.])"
      ]
     },
     "execution_count": 42,
     "metadata": {},
     "output_type": "execute_result"
    }
   ],
   "source": [
    "df_scaled.std(axis=0)"
   ]
  },
  {
   "cell_type": "markdown",
   "metadata": {},
   "source": [
    "## 5. <a name=\"5\">Training and hyperparamter tuning</a>\n",
    "(<a href=\"#0\">Go to top</a>)\n"
   ]
  },
  {
   "cell_type": "markdown",
   "metadata": {},
   "source": [
    "Before we start the training process we need to specify 3 paramters:<br>\n",
    "- Number of clusters\n"
   ]
  },
  {
   "cell_type": "markdown",
   "metadata": {},
   "source": [
    "### *Number of clusters*\n",
    "Use elbow method to specify the optimum number of clusters\n",
    "- Compare how changing linkage criteria or distance function would affect the optimum number of clusters\n",
    "- you can use silhouette_score or any other evalution method to help you determine the optimum number of clusters\n",
    "https://scikit-learn.org/stable/modules/generated/sklearn.metrics.silhouette_score.html"
   ]
  },
  {
   "cell_type": "code",
   "execution_count": 43,
   "metadata": {},
   "outputs": [],
   "source": [
    "#training\n",
    "#import k means\n",
    "import sklearn.metrics as sm\n",
    "from sklearn.cluster import KMeans\n",
    "from sklearn.metrics import silhouette_score"
   ]
  },
  {
   "cell_type": "code",
   "execution_count": 44,
   "metadata": {},
   "outputs": [
    {
     "data": {
      "image/png": "[encoded data removed]",
      "text/plain": [
       "<Figure size 432x288 with 1 Axes>"
      ]
     },
     "metadata": {
      "needs_background": "light"
     },
     "output_type": "display_data"
    }
   ],
   "source": [
    "ilist = []\n",
    "n = 10\n",
    "for i in range(1,n):\n",
    "    kmeans = KMeans(n_clusters = i)\n",
    "    kmeans.fit(df_scaled)\n",
    "    ilist.append(kmeans.inertia_)\n",
    "    \n",
    "plt.plot(range(1,n), ilist)\n",
    "plt.title('Elbow')\n",
    "plt.xlabel('clusters')\n",
    "plt.ylabel('inertias')\n",
    "plt.show()\n"
   ]
  },
  {
   "cell_type": "code",
   "execution_count": 45,
   "metadata": {},
   "outputs": [
    {
     "data": {
      "image/png": "[encoded data removed]",
      "text/plain": [
       "<Figure size 576x396 with 1 Axes>"
      ]
     },
     "metadata": {},
     "output_type": "display_data"
    },
    {
     "data": {
      "text/plain": [
       "<matplotlib.axes._subplots.AxesSubplot at 0x223e4087d60>"
      ]
     },
     "execution_count": 45,
     "metadata": {},
     "output_type": "execute_result"
    }
   ],
   "source": [
    "from sklearn.cluster import KMeans\n",
    "from yellowbrick.cluster import KElbowVisualizer\n",
    "model = KElbowVisualizer(KMeans(), k=10 , timings = False)\n",
    "model.fit(df_scaled)\n",
    "model.show()"
   ]
  },
  {
   "cell_type": "code",
   "execution_count": 46,
   "metadata": {},
   "outputs": [],
   "source": [
    "#check the silhouette_score with the number of clausters\n",
    "def score_n():\n",
    "    \n",
    "    score = []\n",
    "    for n in range(2,10):\n",
    "        \n",
    "        kmean = KMeans(n_clusters= n )\n",
    "        kmean.fit(df_scaled)\n",
    "        result = kmean.labels_\n",
    "        print(n , '    '  , silhouette_score(df_scaled , result))\n",
    "        score.append(silhouette_score(df_scaled , result))    "
   ]
  },
  {
   "cell_type": "code",
   "execution_count": 47,
   "metadata": {},
   "outputs": [
    {
     "name": "stdout",
     "output_type": "stream",
     "text": [
      "2      0.18157496882430105\n",
      "3      0.14968161940900176\n",
      "4      0.15877266141243762\n",
      "5      0.14555866930526848\n",
      "6      0.14477391831863726\n",
      "7      0.13676492482347605\n",
      "8      0.1602410479505417\n",
      "9      0.13685476441063316\n"
     ]
    }
   ],
   "source": [
    "score_n()"
   ]
  },
  {
   "cell_type": "code",
   "execution_count": 48,
   "metadata": {},
   "outputs": [],
   "source": [
    "model = KMeans(n_clusters= 5)\n",
    "kmeans = model.fit_predict(df_scaled)"
   ]
  },
  {
   "cell_type": "code",
   "execution_count": 49,
   "metadata": {},
   "outputs": [],
   "source": [
    "model1 = model.labels_"
   ]
  },
  {
   "cell_type": "code",
   "execution_count": 50,
   "metadata": {},
   "outputs": [
    {
     "data": {
      "text/plain": [
       "array([0, 3, 3, 1, 3, 1, 3, 1, 1, 1, 3, 3, 1, 3, 3, 1, 1, 3, 0, 1, 0, 3,\n",
       "       3, 3, 1, 1, 3, 0, 0, 0, 3, 0, 3, 1, 0, 0, 1, 4, 3, 3, 0, 0, 3, 0,\n",
       "       3, 1, 1, 0, 3, 3, 3, 3, 3, 0, 0, 1, 0, 3, 1, 1, 1, 1, 0, 0, 3, 1,\n",
       "       0, 1, 3, 3, 3, 0, 0, 3, 0, 3, 1, 1, 1, 4, 3, 3, 0, 1, 1, 3, 1, 3,\n",
       "       1, 0, 3, 1, 1, 3, 0, 1, 0, 0, 1, 1, 0, 0, 3, 3, 0, 3, 3, 0, 3, 3,\n",
       "       2, 3, 0, 0, 1, 3, 1, 1, 3, 0, 0, 1, 3, 0, 1, 3, 0, 3, 3, 3, 3, 1,\n",
       "       3, 1, 3, 3, 0, 1, 3, 3, 3, 3, 3, 0, 3, 0, 1, 0, 3, 1, 3, 0, 3, 0,\n",
       "       1, 1, 3, 1, 0, 3, 0, 3, 3, 3, 3, 3, 0, 3, 1, 1, 1, 1, 3, 0, 3, 3,\n",
       "       0, 3, 0])"
      ]
     },
     "execution_count": 50,
     "metadata": {},
     "output_type": "execute_result"
    }
   ],
   "source": [
    "model1"
   ]
  },
  {
   "cell_type": "code",
   "execution_count": 51,
   "metadata": {},
   "outputs": [
    {
     "data": {
      "text/plain": [
       "0.15304030807823535"
      ]
     },
     "execution_count": 51,
     "metadata": {},
     "output_type": "execute_result"
    }
   ],
   "source": [
    "sm.silhouette_score(df_scaled , labels = model1)"
   ]
  },
  {
   "cell_type": "code",
   "execution_count": 52,
   "metadata": {},
   "outputs": [],
   "source": [
    "#import EM\n",
    "from sklearn.mixture import GaussianMixture"
   ]
  },
  {
   "cell_type": "code",
   "execution_count": 53,
   "metadata": {},
   "outputs": [],
   "source": [
    "model_EM= GaussianMixture(n_components=5, random_state=0).fit(df_scaled)"
   ]
  },
  {
   "cell_type": "code",
   "execution_count": 54,
   "metadata": {},
   "outputs": [
    {
     "data": {
      "text/plain": [
       "array([[-1.06238263e-01, -5.75466644e-02, -1.64369804e-01,\n",
       "        -2.18428906e-01,  8.72819321e-02,  1.23645536e+00,\n",
       "        -7.89740914e-01, -1.18333148e+00, -9.34173659e-01,\n",
       "        -1.08263673e-01, -2.08443776e-01,  1.26038317e-01,\n",
       "        -3.25038564e-01,  1.24251437e+00,  1.02962071e+00,\n",
       "         9.59310092e-01, -8.28972018e-02, -5.17045934e-01],\n",
       "       [-9.65633724e-02,  3.88681254e-02,  1.12641837e-01,\n",
       "        -3.84487679e-02,  5.53773363e-01, -7.80921346e-01,\n",
       "         1.39115337e+00,  7.39190236e-01,  1.21669635e+00,\n",
       "         4.55977611e-02, -3.23212595e-01,  1.64489871e-01,\n",
       "         8.01084367e-01, -7.93745735e-01, -1.66188860e-01,\n",
       "        -6.78400710e-01,  2.93550942e-01,  7.02647524e-01],\n",
       "       [-1.50070620e-01, -3.26563541e-01, -5.99056962e-02,\n",
       "         3.36719786e-01, -3.24963208e-01, -3.45747891e-01,\n",
       "        -2.77547352e-01,  3.22849375e-01,  8.10665487e-03,\n",
       "         3.98591044e-01,  7.46429868e-01, -6.01426601e-01,\n",
       "         1.56109244e-01, -3.46639144e-01, -3.31562946e-01,\n",
       "        -2.56541818e-01, -3.80539572e-01, -2.34655927e-01],\n",
       "       [ 4.76195296e-01,  4.94165271e-01, -1.75793071e-01,\n",
       "        -2.01178178e-01, -3.92843910e-01, -3.15696915e-02,\n",
       "        -4.39075616e-01,  5.73963947e-02, -4.30618115e-01,\n",
       "        -4.59740915e-01, -3.61996706e-01,  5.45557525e-01,\n",
       "        -8.40993608e-01, -1.71108613e-02, -5.85529056e-01,\n",
       "         5.77011932e-02,  2.87354768e-01,  2.07026117e-02],\n",
       "       [-2.56942371e-01, -4.05355664e-01,  1.15508991e+01,\n",
       "         1.76133421e+00,  1.06533608e+00, -8.62662017e-01,\n",
       "         1.06833162e+00,  6.34710137e-01,  8.43528701e-01,\n",
       "        -9.29635631e-01, -5.21139890e-01, -2.38376113e+00,\n",
       "        -1.08563019e-01, -1.01683821e+00, -7.91178794e-01,\n",
       "        -8.63878846e-01, -8.71510605e-01,  1.93494799e+00]])"
      ]
     },
     "execution_count": 54,
     "metadata": {},
     "output_type": "execute_result"
    }
   ],
   "source": [
    "model_EM.means_"
   ]
  },
  {
   "cell_type": "code",
   "execution_count": 55,
   "metadata": {},
   "outputs": [],
   "source": [
    "prediction = model_EM.predict(df_scaled)"
   ]
  },
  {
   "cell_type": "code",
   "execution_count": 56,
   "metadata": {},
   "outputs": [
    {
     "data": {
      "text/plain": [
       "0.13034613870381714"
      ]
     },
     "execution_count": 56,
     "metadata": {},
     "output_type": "execute_result"
    }
   ],
   "source": [
    "sm.silhouette_score(df_scaled , prediction)"
   ]
  },
  {
   "cell_type": "code",
   "execution_count": 57,
   "metadata": {},
   "outputs": [],
   "source": [
    "##conda install -c districtdatalabs yellowbrick"
   ]
  },
  {
   "cell_type": "markdown",
   "metadata": {},
   "source": [
    "## 6. <a name=\"6\">improvement ideas</a>\n",
    "(<a href=\"#0\">Go to top</a>)"
   ]
  },
  {
   "cell_type": "markdown",
   "metadata": {},
   "source": [
    "- Try to use PCA to reduce the number of features and compare how this will affect the clustring process\n",
    "- Try to run your code again but with different tranformation technique\n",
    "- Implement gap statistics method and use it as evaluation metric and compare the result with what you did before https://www.datanovia.com/en/lessons/determining-the-optimal-number-of-clusters-3-must-know-methods/#gap-statistic-method "
   ]
  },
  {
   "cell_type": "code",
   "execution_count": 58,
   "metadata": {},
   "outputs": [],
   "source": [
    "from sklearn.decomposition import PCA"
   ]
  },
  {
   "cell_type": "code",
   "execution_count": 71,
   "metadata": {},
   "outputs": [],
   "source": [
    "pca = PCA(n_components = 0.90)\n",
    "pca.fit(df_scaled)\n",
    "reduced = pca.transform(df_scaled)"
   ]
  },
  {
   "cell_type": "code",
   "execution_count": 72,
   "metadata": {},
   "outputs": [
    {
     "data": {
      "image/png": "[encoded data removed]",
      "text/plain": [
       "<Figure size 864x432 with 1 Axes>"
      ]
     },
     "metadata": {},
     "output_type": "display_data"
    }
   ],
   "source": [
    "pca = PCA().fit(df_scaled)\n",
    "\n",
    "plt.rcParams[\"figure.figsize\"] = (12,6)\n",
    "\n",
    "fig, ax = plt.subplots()\n",
    "xi = np.arange(1, 19, step=1)\n",
    "y = np.cumsum(pca.explained_variance_ratio_)\n",
    "\n",
    "plt.ylim(0.0,1.1)\n",
    "plt.plot(xi, y, marker='o', linestyle='--', color='b')\n",
    "\n",
    "plt.xlabel('Number of Components')\n",
    "plt.xticks(np.arange(0, 19, step=1)) #change from 0-based array index to 1-based human-readable label\n",
    "plt.ylabel('Cumulative variance (%)')\n",
    "plt.title('The number of components needed to explain variance')\n",
    "\n",
    "plt.axhline(y=0.90, color='r', linestyle='-')\n",
    "plt.text(0.5, 0.85, '90% cut-off threshold', color = 'red', fontsize=16)\n",
    "\n",
    "ax.grid(axis='x')\n",
    "plt.show()"
   ]
  },
  {
   "cell_type": "markdown",
   "metadata": {},
   "source": [
    "- number of components will be 12"
   ]
  },
  {
   "cell_type": "code",
   "execution_count": 73,
   "metadata": {},
   "outputs": [],
   "source": [
    "PCA_model =PCA(n_components=12 ,svd_solver='full')"
   ]
  },
  {
   "cell_type": "code",
   "execution_count": 74,
   "metadata": {},
   "outputs": [
    {
     "data": {
      "text/plain": [
       "array([[ 3.03013307, -2.93080428, -2.16692304, ..., -0.94291782,\n",
       "         1.89933   , -0.45548685],\n",
       "       [-0.14046719,  1.18797471, -0.41058137, ...,  0.60278433,\n",
       "        -0.07919404,  0.21870797],\n",
       "       [ 0.51289966, -1.20562009,  1.67164937, ..., -0.32828742,\n",
       "         0.46731602, -0.1369961 ],\n",
       "       ...,\n",
       "       [ 1.81676946, -1.14854387,  1.55222676, ..., -0.34075838,\n",
       "        -0.28416192, -0.03423079],\n",
       "       [ 0.81397275,  0.36895037, -1.56171364, ..., -0.18231355,\n",
       "         0.07459698, -1.91465872],\n",
       "       [ 1.61047231, -0.49355162, -1.27338287, ..., -0.28741601,\n",
       "         0.02844075, -0.24481311]])"
      ]
     },
     "execution_count": 74,
     "metadata": {},
     "output_type": "execute_result"
    }
   ],
   "source": [
    "PCA_model.fit_transform(df_scaled)"
   ]
  },
  {
   "cell_type": "code",
   "execution_count": 75,
   "metadata": {},
   "outputs": [
    {
     "data": {
      "text/plain": [
       "array([0.25127583, 0.11749434, 0.09035524, 0.08641531, 0.0704693 ,\n",
       "       0.06018595, 0.05333532, 0.04424734, 0.03890977, 0.03359201,\n",
       "       0.02982292, 0.02621503])"
      ]
     },
     "execution_count": 75,
     "metadata": {},
     "output_type": "execute_result"
    }
   ],
   "source": [
    "PCA_model.explained_variance_ratio_"
   ]
  },
  {
   "cell_type": "code",
   "execution_count": 76,
   "metadata": {},
   "outputs": [
    {
     "data": {
      "text/plain": [
       "array([28.45365947, 19.45679195, 17.06237327, 16.68622598, 15.06824747,\n",
       "       13.92548483, 13.10901997, 11.94005549, 11.19675242, 10.40353064,\n",
       "        9.80252321,  9.19047532])"
      ]
     },
     "execution_count": 76,
     "metadata": {},
     "output_type": "execute_result"
    }
   ],
   "source": [
    "PCA_model.singular_values_"
   ]
  },
  {
   "cell_type": "code",
   "execution_count": 77,
   "metadata": {},
   "outputs": [],
   "source": [
    "df_new = PCA_model.fit_transform(df_scaled)"
   ]
  },
  {
   "cell_type": "code",
   "execution_count": 78,
   "metadata": {},
   "outputs": [
    {
     "data": {
      "text/plain": [
       "array([[ 3.03013307, -2.93080428, -2.16692304, ..., -0.94291782,\n",
       "         1.89933   , -0.45548685],\n",
       "       [-0.14046719,  1.18797471, -0.41058137, ...,  0.60278433,\n",
       "        -0.07919404,  0.21870797],\n",
       "       [ 0.51289966, -1.20562009,  1.67164937, ..., -0.32828742,\n",
       "         0.46731602, -0.1369961 ],\n",
       "       ...,\n",
       "       [ 1.81676946, -1.14854387,  1.55222676, ..., -0.34075838,\n",
       "        -0.28416192, -0.03423079],\n",
       "       [ 0.81397275,  0.36895037, -1.56171364, ..., -0.18231355,\n",
       "         0.07459698, -1.91465872],\n",
       "       [ 1.61047231, -0.49355162, -1.27338287, ..., -0.28741601,\n",
       "         0.02844075, -0.24481311]])"
      ]
     },
     "execution_count": 78,
     "metadata": {},
     "output_type": "execute_result"
    }
   ],
   "source": [
    "df_new"
   ]
  },
  {
   "cell_type": "code",
   "execution_count": 79,
   "metadata": {},
   "outputs": [
    {
     "data": {
      "text/plain": [
       "(179, 12)"
      ]
     },
     "execution_count": 79,
     "metadata": {},
     "output_type": "execute_result"
    }
   ],
   "source": [
    "df_new.shape"
   ]
  },
  {
   "cell_type": "markdown",
   "metadata": {},
   "source": [
    "#### K means model"
   ]
  },
  {
   "cell_type": "code",
   "execution_count": 80,
   "metadata": {},
   "outputs": [
    {
     "data": {
      "image/png": "[encoded data removed]",
      "text/plain": [
       "<Figure size 864x432 with 1 Axes>"
      ]
     },
     "metadata": {},
     "output_type": "display_data"
    },
    {
     "data": {
      "text/plain": [
       "<matplotlib.axes._subplots.AxesSubplot at 0x223e57f1dc0>"
      ]
     },
     "execution_count": 80,
     "metadata": {},
     "output_type": "execute_result"
    }
   ],
   "source": [
    "model2 = KElbowVisualizer(KMeans(), k=10 , timings = False)\n",
    "model2.fit(df_new)\n",
    "model2.show()"
   ]
  },
  {
   "cell_type": "code",
   "execution_count": 103,
   "metadata": {},
   "outputs": [],
   "source": [
    "model2 = KMeans(n_clusters= 6)\n",
    "kmeans = model2.fit_predict(df_new)"
   ]
  },
  {
   "cell_type": "code",
   "execution_count": 104,
   "metadata": {},
   "outputs": [
    {
     "data": {
      "text/plain": [
       "0.17757196382107007"
      ]
     },
     "execution_count": 104,
     "metadata": {},
     "output_type": "execute_result"
    }
   ],
   "source": [
    "m = model2.labels_\n",
    "sm.silhouette_score(df_new , labels = m)"
   ]
  },
  {
   "cell_type": "markdown",
   "metadata": {},
   "source": [
    "#### EM model"
   ]
  },
  {
   "cell_type": "code",
   "execution_count": 107,
   "metadata": {},
   "outputs": [],
   "source": [
    "model_EM2= GaussianMixture(n_components=5, random_state=0).fit(df_new)"
   ]
  },
  {
   "cell_type": "code",
   "execution_count": 108,
   "metadata": {},
   "outputs": [
    {
     "data": {
      "text/plain": [
       "array([[ 1.87011344e+00, -1.91436383e-01, -1.92886188e-01,\n",
       "        -1.21857159e-01, -1.22796199e-01,  1.03788298e-01,\n",
       "         7.50909655e-02, -4.08941986e-03,  1.49896184e-01,\n",
       "         5.94034175e-02,  7.35773173e-02, -3.63958070e-02],\n",
       "       [-1.74283388e+00, -8.41878183e-02, -6.02668750e-01,\n",
       "         3.19739275e-01, -5.51112055e-01,  5.64670088e-02,\n",
       "         1.46605542e-01,  1.76240666e-02, -5.86476138e-02,\n",
       "        -1.08568421e-01,  2.81690149e-02,  6.73653494e-02],\n",
       "       [-2.03201011e+00, -2.36788138e-01,  4.23946336e-01,\n",
       "        -1.26690633e+00,  8.59369477e-01, -6.47322496e-02,\n",
       "        -3.26280385e-01,  5.55090855e-03, -9.22561453e-02,\n",
       "         2.72420191e-01,  1.58426773e-01, -1.43922479e-01],\n",
       "       [ 1.55051652e-01,  2.05521265e+00,  1.19142509e+00,\n",
       "         3.29578214e-01,  2.51842251e-01, -5.07930829e-01,\n",
       "        -4.41291552e-01, -6.91805407e-03, -2.66685155e-01,\n",
       "        -2.98378919e-01, -4.57851639e-01,  1.58195844e-01],\n",
       "       [-9.00141281e-01, -3.90768669e+00,  2.89000302e+00,\n",
       "         4.75588416e+00,  2.72024955e+00,  2.12682810e-01,\n",
       "         9.55248926e-01, -1.52466580e-01, -1.97261723e-01,\n",
       "        -1.11055909e-02, -5.33076123e-01, -3.07878833e-02]])"
      ]
     },
     "execution_count": 108,
     "metadata": {},
     "output_type": "execute_result"
    }
   ],
   "source": [
    "model_EM2.means_"
   ]
  },
  {
   "cell_type": "code",
   "execution_count": 109,
   "metadata": {},
   "outputs": [],
   "source": [
    "prediction = model_EM2.predict(df_new)"
   ]
  },
  {
   "cell_type": "code",
   "execution_count": 110,
   "metadata": {},
   "outputs": [
    {
     "data": {
      "text/plain": [
       "0.15074832654206122"
      ]
     },
     "execution_count": 110,
     "metadata": {},
     "output_type": "execute_result"
    }
   ],
   "source": [
    "sm.silhouette_score(df_new , prediction)"
   ]
  },
  {
   "cell_type": "markdown",
   "metadata": {},
   "source": [
    "- Using different transformation"
   ]
  },
  {
   "cell_type": "code",
   "execution_count": 87,
   "metadata": {},
   "outputs": [
    {
     "data": {
      "text/plain": [
       "array([[0.02363593, 0.06722789, 0.00296608, ..., 0.04941482, 0.02649007,\n",
       "        0.03983229],\n",
       "       [0.00272582, 0.00298481, 0.00769944, ..., 0.30169051, 0.20750552,\n",
       "        0.60691824],\n",
       "       [0.02506145, 0.24728856, 0.00085275, ..., 0.1313394 , 0.00662252,\n",
       "        0.31236897],\n",
       "       ...,\n",
       "       [0.01632924, 0.05481746, 0.00250881, ..., 0.17555267, 0.5209713 ,\n",
       "        0.41194969],\n",
       "       [0.00875361, 0.07814154, 0.00094544, ..., 0.02860858, 0.03200883,\n",
       "        0.51257862],\n",
       "       [0.00931282, 0.04055269, 0.00193413, ..., 0.23276983, 0.26821192,\n",
       "        0.60691824]])"
      ]
     },
     "execution_count": 87,
     "metadata": {},
     "output_type": "execute_result"
    }
   ],
   "source": [
    "from sklearn.preprocessing import MaxAbsScaler\n",
    "scaler2 = MaxAbsScaler()\n",
    "df_scaled2 = scaler2.fit_transform(df)\n",
    "df_scaled2"
   ]
  },
  {
   "cell_type": "code",
   "execution_count": 95,
   "metadata": {},
   "outputs": [],
   "source": [
    "PCA_model2 =PCA(n_components=12 ,svd_solver='full')"
   ]
  },
  {
   "cell_type": "code",
   "execution_count": 96,
   "metadata": {},
   "outputs": [],
   "source": [
    "df_new2 = PCA_model.fit_transform(df_scaled2)"
   ]
  },
  {
   "cell_type": "code",
   "execution_count": 97,
   "metadata": {},
   "outputs": [
    {
     "data": {
      "text/plain": [
       "array([[-0.62479146, -0.19490867,  0.78736167, ..., -0.14292865,\n",
       "         0.55476259,  0.16675294],\n",
       "       [ 0.03383387,  0.08476616, -0.3682651 , ...,  0.1683623 ,\n",
       "        -0.06952986, -0.03897952],\n",
       "       [-0.1271194 , -0.28457851,  0.16853988, ..., -0.05335169,\n",
       "        -0.13420446, -0.08364837],\n",
       "       ...,\n",
       "       [-0.44450141, -0.38694316, -0.07896583, ..., -0.06014035,\n",
       "        -0.27626199, -0.10300527],\n",
       "       [-0.12208217,  0.57450482,  0.06965619, ..., -0.18071003,\n",
       "         0.11421693,  0.05962671],\n",
       "       [-0.31536007, -0.18532157, -0.19861039, ..., -0.07484454,\n",
       "         0.1355472 , -0.13217923]])"
      ]
     },
     "execution_count": 97,
     "metadata": {},
     "output_type": "execute_result"
    }
   ],
   "source": [
    "df_new2"
   ]
  },
  {
   "cell_type": "code",
   "execution_count": 99,
   "metadata": {},
   "outputs": [
    {
     "data": {
      "image/png": "[encoded data removed]",
      "text/plain": [
       "<Figure size 864x432 with 1 Axes>"
      ]
     },
     "metadata": {},
     "output_type": "display_data"
    },
    {
     "data": {
      "text/plain": [
       "<matplotlib.axes._subplots.AxesSubplot at 0x223e3c82af0>"
      ]
     },
     "execution_count": 99,
     "metadata": {},
     "output_type": "execute_result"
    }
   ],
   "source": [
    "model3 = KElbowVisualizer(KMeans(), k=10 , timings = False)\n",
    "model3.fit(df_new2)\n",
    "model3.show()"
   ]
  },
  {
   "cell_type": "code",
   "execution_count": 114,
   "metadata": {},
   "outputs": [],
   "source": [
    "model3 = KMeans(n_clusters= 4)\n",
    "kmeans = model3.fit_predict(df_new2)"
   ]
  },
  {
   "cell_type": "code",
   "execution_count": 115,
   "metadata": {},
   "outputs": [
    {
     "data": {
      "text/plain": [
       "0.1584363798479767"
      ]
     },
     "execution_count": 115,
     "metadata": {},
     "output_type": "execute_result"
    }
   ],
   "source": [
    "m = model3.labels_\n",
    "sm.silhouette_score(df_scaled2 , labels = m)"
   ]
  }
 ],
 "metadata": {
  "kernelspec": {
   "display_name": "Python 3",
   "language": "python",
   "name": "python3"
  },
  "language_info": {
   "codemirror_mode": {
    "name": "ipython",
    "version": 3
   },
   "file_extension": ".py",
   "mimetype": "text/x-python",
   "name": "python",
   "nbconvert_exporter": "python",
   "pygments_lexer": "ipython3",
   "version": "3.8.3"
  }
 },
 "nbformat": 4,
 "nbformat_minor": 2
}
